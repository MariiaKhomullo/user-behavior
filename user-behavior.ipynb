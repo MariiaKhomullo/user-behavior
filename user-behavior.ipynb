{
 "cells": [
  {
   "attachments": {},
   "cell_type": "markdown",
   "metadata": {},
   "source": [
    "# Исследование поведения пользователей"
   ]
  },
  {
   "attachments": {},
   "cell_type": "markdown",
   "metadata": {},
   "source": [
    "``` Учебный проект ``` \n",
    "\n",
    "## Задача\n",
    "\n",
    "Необходимо проверить у пользователей, *зарегистрировавшихся в 2018 году*:\n",
    "\n",
    "- есть ли зависимость между выбранным уровнем сложности и вероятностью оплаты;\n",
    "\n",
    "- различается ли временной промежуток между регистрацией и оплатой у групп пользователей с разным уровнем сложности.\n"
   ]
  },
  {
   "attachments": {},
   "cell_type": "markdown",
   "metadata": {},
   "source": [
    "---"
   ]
  },
  {
   "attachments": {},
   "cell_type": "markdown",
   "metadata": {},
   "source": [
    "## Вид и свойства исходных таблиц"
   ]
  },
  {
   "cell_type": "markdown",
   "metadata": {},
   "source": []
  },
  {
   "cell_type": "code",
   "execution_count": 81,
   "metadata": {},
   "outputs": [],
   "source": [
    "import pandas as pd"
   ]
  },
  {
   "cell_type": "code",
   "execution_count": 82,
   "metadata": {},
   "outputs": [],
   "source": [
    "# запишем исходные таблицы в переменные:\n",
    "events_df = pd.read_csv('data/7_4_Events.csv')\n",
    "purchase_df = pd.read_csv('data/purchase.csv')"
   ]
  },
  {
   "cell_type": "code",
   "execution_count": 83,
   "metadata": {},
   "outputs": [
    {
     "data": {
      "text/html": [
       "<div>\n",
       "<style scoped>\n",
       "    .dataframe tbody tr th:only-of-type {\n",
       "        vertical-align: middle;\n",
       "    }\n",
       "\n",
       "    .dataframe tbody tr th {\n",
       "        vertical-align: top;\n",
       "    }\n",
       "\n",
       "    .dataframe thead th {\n",
       "        text-align: right;\n",
       "    }\n",
       "</style>\n",
       "<table border=\"1\" class=\"dataframe\">\n",
       "  <thead>\n",
       "    <tr style=\"text-align: right;\">\n",
       "      <th></th>\n",
       "      <th>id</th>\n",
       "      <th>event_type</th>\n",
       "      <th>selected_level</th>\n",
       "      <th>start_time</th>\n",
       "      <th>tutorial_id</th>\n",
       "      <th>user_id</th>\n",
       "    </tr>\n",
       "  </thead>\n",
       "  <tbody>\n",
       "    <tr>\n",
       "      <th>0</th>\n",
       "      <td>28903</td>\n",
       "      <td>registration</td>\n",
       "      <td>NaN</td>\n",
       "      <td>2016-05-11T23:40:55</td>\n",
       "      <td>NaN</td>\n",
       "      <td>12583</td>\n",
       "    </tr>\n",
       "    <tr>\n",
       "      <th>1</th>\n",
       "      <td>28904</td>\n",
       "      <td>registration</td>\n",
       "      <td>NaN</td>\n",
       "      <td>2016-05-11T23:49:58</td>\n",
       "      <td>NaN</td>\n",
       "      <td>12584</td>\n",
       "    </tr>\n",
       "    <tr>\n",
       "      <th>2</th>\n",
       "      <td>28905</td>\n",
       "      <td>registration</td>\n",
       "      <td>NaN</td>\n",
       "      <td>2016-05-12T00:53:07</td>\n",
       "      <td>NaN</td>\n",
       "      <td>12585</td>\n",
       "    </tr>\n",
       "    <tr>\n",
       "      <th>3</th>\n",
       "      <td>28906</td>\n",
       "      <td>tutorial_start</td>\n",
       "      <td>NaN</td>\n",
       "      <td>2016-05-12T01:32:20</td>\n",
       "      <td>17562.0</td>\n",
       "      <td>12585</td>\n",
       "    </tr>\n",
       "    <tr>\n",
       "      <th>4</th>\n",
       "      <td>28907</td>\n",
       "      <td>tutorial_finish</td>\n",
       "      <td>NaN</td>\n",
       "      <td>2016-05-12T01:34:53</td>\n",
       "      <td>17562.0</td>\n",
       "      <td>12585</td>\n",
       "    </tr>\n",
       "    <tr>\n",
       "      <th>...</th>\n",
       "      <td>...</td>\n",
       "      <td>...</td>\n",
       "      <td>...</td>\n",
       "      <td>...</td>\n",
       "      <td>...</td>\n",
       "      <td>...</td>\n",
       "    </tr>\n",
       "    <tr>\n",
       "      <th>252329</th>\n",
       "      <td>281232</td>\n",
       "      <td>level_choice</td>\n",
       "      <td>hard</td>\n",
       "      <td>2020-07-02T10:02:15</td>\n",
       "      <td>NaN</td>\n",
       "      <td>87439</td>\n",
       "    </tr>\n",
       "    <tr>\n",
       "      <th>252330</th>\n",
       "      <td>281233</td>\n",
       "      <td>level_choice</td>\n",
       "      <td>medium</td>\n",
       "      <td>2020-07-02T11:38:52</td>\n",
       "      <td>NaN</td>\n",
       "      <td>87488</td>\n",
       "    </tr>\n",
       "    <tr>\n",
       "      <th>252331</th>\n",
       "      <td>281234</td>\n",
       "      <td>pack_choice</td>\n",
       "      <td>NaN</td>\n",
       "      <td>2020-07-02T11:42:14</td>\n",
       "      <td>NaN</td>\n",
       "      <td>87488</td>\n",
       "    </tr>\n",
       "    <tr>\n",
       "      <th>252332</th>\n",
       "      <td>281235</td>\n",
       "      <td>tutorial_start</td>\n",
       "      <td>NaN</td>\n",
       "      <td>2020-07-02T13:32:58</td>\n",
       "      <td>86127.0</td>\n",
       "      <td>87464</td>\n",
       "    </tr>\n",
       "    <tr>\n",
       "      <th>252333</th>\n",
       "      <td>281236</td>\n",
       "      <td>tutorial_finish</td>\n",
       "      <td>NaN</td>\n",
       "      <td>2020-07-02T13:36:36</td>\n",
       "      <td>86127.0</td>\n",
       "      <td>87464</td>\n",
       "    </tr>\n",
       "  </tbody>\n",
       "</table>\n",
       "<p>252334 rows × 6 columns</p>\n",
       "</div>"
      ],
      "text/plain": [
       "            id       event_type selected_level           start_time  \\\n",
       "0        28903     registration            NaN  2016-05-11T23:40:55   \n",
       "1        28904     registration            NaN  2016-05-11T23:49:58   \n",
       "2        28905     registration            NaN  2016-05-12T00:53:07   \n",
       "3        28906   tutorial_start            NaN  2016-05-12T01:32:20   \n",
       "4        28907  tutorial_finish            NaN  2016-05-12T01:34:53   \n",
       "...        ...              ...            ...                  ...   \n",
       "252329  281232     level_choice           hard  2020-07-02T10:02:15   \n",
       "252330  281233     level_choice         medium  2020-07-02T11:38:52   \n",
       "252331  281234      pack_choice            NaN  2020-07-02T11:42:14   \n",
       "252332  281235   tutorial_start            NaN  2020-07-02T13:32:58   \n",
       "252333  281236  tutorial_finish            NaN  2020-07-02T13:36:36   \n",
       "\n",
       "        tutorial_id  user_id  \n",
       "0               NaN    12583  \n",
       "1               NaN    12584  \n",
       "2               NaN    12585  \n",
       "3           17562.0    12585  \n",
       "4           17562.0    12585  \n",
       "...             ...      ...  \n",
       "252329          NaN    87439  \n",
       "252330          NaN    87488  \n",
       "252331          NaN    87488  \n",
       "252332      86127.0    87464  \n",
       "252333      86127.0    87464  \n",
       "\n",
       "[252334 rows x 6 columns]"
      ]
     },
     "metadata": {},
     "output_type": "display_data"
    }
   ],
   "source": [
    "# смотрим содержимое таблицы events_df\n",
    "display(events_df)\n",
    "\n"
   ]
  },
  {
   "attachments": {},
   "cell_type": "markdown",
   "metadata": {},
   "source": [
    "### Описание event_df\n",
    "| Название столбца | Описание |\n",
    "| --- | :--- |\n",
    "id| идентификатор события\n",
    "user_id|\tуникальный идентификатор пользователя, совершившего событие в приложении\n",
    "start_time|\tдата и время события\n",
    "event_type|\tтип события (значения: registration — регистрация; tutorial_start — начало обучения; tutorial_finish — завершение обучения; level_choice — выбор уровня сложности; pack_choice — выбор пакетов вопросов)\n",
    "tutorial_id|\tидентификатор обучения (этот идентификатор есть только у событий обучения)\n",
    "selected_level|\tвыбранный уровень сложности обучения"
   ]
  },
  {
   "cell_type": "code",
   "execution_count": 84,
   "metadata": {},
   "outputs": [
    {
     "name": "stdout",
     "output_type": "stream",
     "text": [
      "<class 'pandas.core.frame.DataFrame'>\n",
      "RangeIndex: 252334 entries, 0 to 252333\n",
      "Data columns (total 6 columns):\n",
      " #   Column          Non-Null Count   Dtype  \n",
      "---  ------          --------------   -----  \n",
      " 0   id              252334 non-null  int64  \n",
      " 1   event_type      252334 non-null  object \n",
      " 2   selected_level  31086 non-null   object \n",
      " 3   start_time      252334 non-null  object \n",
      " 4   tutorial_id     125103 non-null  float64\n",
      " 5   user_id         252334 non-null  int64  \n",
      "dtypes: float64(1), int64(2), object(3)\n",
      "memory usage: 11.6+ MB\n"
     ]
    }
   ],
   "source": [
    "events_df.info()"
   ]
  },
  {
   "cell_type": "code",
   "execution_count": 85,
   "metadata": {},
   "outputs": [
    {
     "data": {
      "text/html": [
       "<div>\n",
       "<style scoped>\n",
       "    .dataframe tbody tr th:only-of-type {\n",
       "        vertical-align: middle;\n",
       "    }\n",
       "\n",
       "    .dataframe tbody tr th {\n",
       "        vertical-align: top;\n",
       "    }\n",
       "\n",
       "    .dataframe thead th {\n",
       "        text-align: right;\n",
       "    }\n",
       "</style>\n",
       "<table border=\"1\" class=\"dataframe\">\n",
       "  <thead>\n",
       "    <tr style=\"text-align: right;\">\n",
       "      <th></th>\n",
       "      <th>id</th>\n",
       "      <th>user_id</th>\n",
       "      <th>event_datetime</th>\n",
       "      <th>amount</th>\n",
       "    </tr>\n",
       "  </thead>\n",
       "  <tbody>\n",
       "    <tr>\n",
       "      <th>0</th>\n",
       "      <td>15674</td>\n",
       "      <td>12584</td>\n",
       "      <td>2016-05-12T10:34:16</td>\n",
       "      <td>100</td>\n",
       "    </tr>\n",
       "    <tr>\n",
       "      <th>1</th>\n",
       "      <td>15675</td>\n",
       "      <td>12985</td>\n",
       "      <td>2016-05-13T08:25:56</td>\n",
       "      <td>50</td>\n",
       "    </tr>\n",
       "    <tr>\n",
       "      <th>2</th>\n",
       "      <td>15676</td>\n",
       "      <td>12828</td>\n",
       "      <td>2016-05-13T16:33:46</td>\n",
       "      <td>50</td>\n",
       "    </tr>\n",
       "    <tr>\n",
       "      <th>3</th>\n",
       "      <td>15677</td>\n",
       "      <td>12598</td>\n",
       "      <td>2016-05-14T01:09:37</td>\n",
       "      <td>150</td>\n",
       "    </tr>\n",
       "    <tr>\n",
       "      <th>4</th>\n",
       "      <td>15678</td>\n",
       "      <td>13037</td>\n",
       "      <td>2016-05-14T01:24:46</td>\n",
       "      <td>100</td>\n",
       "    </tr>\n",
       "    <tr>\n",
       "      <th>...</th>\n",
       "      <td>...</td>\n",
       "      <td>...</td>\n",
       "      <td>...</td>\n",
       "      <td>...</td>\n",
       "    </tr>\n",
       "    <tr>\n",
       "      <th>5951</th>\n",
       "      <td>21625</td>\n",
       "      <td>87331</td>\n",
       "      <td>2020-07-06T09:02:07</td>\n",
       "      <td>50</td>\n",
       "    </tr>\n",
       "    <tr>\n",
       "      <th>5952</th>\n",
       "      <td>21626</td>\n",
       "      <td>87418</td>\n",
       "      <td>2020-07-06T14:16:37</td>\n",
       "      <td>100</td>\n",
       "    </tr>\n",
       "    <tr>\n",
       "      <th>5953</th>\n",
       "      <td>21627</td>\n",
       "      <td>87431</td>\n",
       "      <td>2020-07-06T22:48:59</td>\n",
       "      <td>50</td>\n",
       "    </tr>\n",
       "    <tr>\n",
       "      <th>5954</th>\n",
       "      <td>21628</td>\n",
       "      <td>87363</td>\n",
       "      <td>2020-07-07T05:38:56</td>\n",
       "      <td>100</td>\n",
       "    </tr>\n",
       "    <tr>\n",
       "      <th>5955</th>\n",
       "      <td>21629</td>\n",
       "      <td>87466</td>\n",
       "      <td>2020-07-08T01:59:21</td>\n",
       "      <td>50</td>\n",
       "    </tr>\n",
       "  </tbody>\n",
       "</table>\n",
       "<p>5956 rows × 4 columns</p>\n",
       "</div>"
      ],
      "text/plain": [
       "         id  user_id       event_datetime  amount\n",
       "0     15674    12584  2016-05-12T10:34:16     100\n",
       "1     15675    12985  2016-05-13T08:25:56      50\n",
       "2     15676    12828  2016-05-13T16:33:46      50\n",
       "3     15677    12598  2016-05-14T01:09:37     150\n",
       "4     15678    13037  2016-05-14T01:24:46     100\n",
       "...     ...      ...                  ...     ...\n",
       "5951  21625    87331  2020-07-06T09:02:07      50\n",
       "5952  21626    87418  2020-07-06T14:16:37     100\n",
       "5953  21627    87431  2020-07-06T22:48:59      50\n",
       "5954  21628    87363  2020-07-07T05:38:56     100\n",
       "5955  21629    87466  2020-07-08T01:59:21      50\n",
       "\n",
       "[5956 rows x 4 columns]"
      ]
     },
     "metadata": {},
     "output_type": "display_data"
    }
   ],
   "source": [
    "# смотрим содержимое таблицы purchase_df\n",
    "display(purchase_df)"
   ]
  },
  {
   "attachments": {},
   "cell_type": "markdown",
   "metadata": {},
   "source": [
    "### Описание purchase_df\n",
    "| Название столбца | Описание |\n",
    "| --- | :--- |\n",
    "id\t | идентификатор события\n",
    "user_id\t| уникальный идентификатор пользователя, совершившего событие в приложении\n",
    "event_datetime |\tдата и время события/покупки\n",
    "amount\t| сумма оплаты"
   ]
  },
  {
   "cell_type": "code",
   "execution_count": 86,
   "metadata": {},
   "outputs": [
    {
     "name": "stdout",
     "output_type": "stream",
     "text": [
      "<class 'pandas.core.frame.DataFrame'>\n",
      "RangeIndex: 5956 entries, 0 to 5955\n",
      "Data columns (total 4 columns):\n",
      " #   Column          Non-Null Count  Dtype \n",
      "---  ------          --------------  ----- \n",
      " 0   id              5956 non-null   int64 \n",
      " 1   user_id         5956 non-null   int64 \n",
      " 2   event_datetime  5956 non-null   object\n",
      " 3   amount          5956 non-null   int64 \n",
      "dtypes: int64(3), object(1)\n",
      "memory usage: 186.2+ KB\n"
     ]
    }
   ],
   "source": [
    "purchase_df.info()\n"
   ]
  },
  {
   "attachments": {},
   "cell_type": "markdown",
   "metadata": {},
   "source": [
    "## Преобразование данных"
   ]
  },
  {
   "cell_type": "code",
   "execution_count": 87,
   "metadata": {},
   "outputs": [],
   "source": [
    "# Небходимо привести столбец start_time к формату даты. Для этого удаляем строки с некорректными значениями. \n",
    "events_df = events_df.drop(index= [10981,229121], axis=0)"
   ]
  },
  {
   "cell_type": "code",
   "execution_count": 88,
   "metadata": {},
   "outputs": [],
   "source": [
    "# Создаем функцию, чтобы убрать несуществующее 29 февраля 2017 года: \n",
    "def dates_for_drop(x):\n",
    "    if x[0:10] == '2017-02-29':\n",
    "        return '2017-02-29'\n",
    "    else:\n",
    "        return x\n",
    "     \n",
    "# Применяем функцию к столбцу start_time     \n",
    "events_df['start_time'] = events_df['start_time'].apply(dates_for_drop)\n",
    "events_df = events_df[events_df['start_time'] != '2017-02-29']"
   ]
  },
  {
   "cell_type": "code",
   "execution_count": 89,
   "metadata": {},
   "outputs": [],
   "source": [
    "# Наконец, преобразуем столбец в формат даты\n",
    "events_df['start_time'] =  pd.to_datetime(events_df['start_time'])"
   ]
  },
  {
   "cell_type": "code",
   "execution_count": 90,
   "metadata": {},
   "outputs": [
    {
     "data": {
      "text/plain": [
       "19926"
      ]
     },
     "execution_count": 90,
     "metadata": {},
     "output_type": "execute_result"
    }
   ],
   "source": [
    "# Создаем список пользователей таблицы events_df, зарегистрировавшихся в 2018 году\n",
    "mask1 = events_df['event_type'] == 'registration' #только регистрации\n",
    "mask2 = events_df['start_time'].dt.year == 2018 #только 2018 год\n",
    "ids = list(events_df[mask1&mask2]['user_id'])\n",
    "len(ids)"
   ]
  },
  {
   "cell_type": "code",
   "execution_count": 91,
   "metadata": {},
   "outputs": [],
   "source": [
    "# Отбираем события, касающие только найденных пользователей.\n",
    "events_df = events_df[events_df['user_id'].isin(ids)]"
   ]
  },
  {
   "cell_type": "code",
   "execution_count": 92,
   "metadata": {},
   "outputs": [],
   "source": [
    "# Переведем столбец event_datetime в формат даты\n",
    "purchase_df['event_datetime'] = pd.to_datetime(purchase_df['event_datetime'])\n",
    "# Создаем список пользователей таблицы purchase_df, зарегистрировавшихся в 2018 году\n",
    "purchase_df = purchase_df[purchase_df['user_id'].isin(ids)]"
   ]
  },
  {
   "attachments": {},
   "cell_type": "markdown",
   "metadata": {},
   "source": [
    "--- \n",
    "\n",
    "## Есть ли зависимость между выбранным уровнем сложности и вероятностью оплаты?\n"
   ]
  },
  {
   "cell_type": "code",
   "execution_count": 93,
   "metadata": {},
   "outputs": [
    {
     "name": "stdout",
     "output_type": "stream",
     "text": [
      "Количество пользователей, выбравших:\n",
      "hard level -  1249\n",
      "medium level -  4645\n",
      "easy level -  2448\n",
      "без уровня -  11584\n"
     ]
    }
   ],
   "source": [
    "\n",
    "# Рассчитаем количество пользователей, выбравших определенный уровень: \n",
    "# Hard level\n",
    "print('Количество пользователей, выбравших:')\n",
    "hard_level_users = events_df[events_df['selected_level'] == 'hard'][\n",
    "    'user_id'\n",
    "].nunique()\n",
    "print('hard level - ', hard_level_users)\n",
    "# Medium level\n",
    "medium_level_users = events_df[events_df['selected_level'] == 'medium'][\n",
    "    'user_id'\n",
    "].nunique()\n",
    "print('medium level - ', medium_level_users)\n",
    "# Easy level\n",
    "easy_level_users = events_df[events_df['selected_level'] == 'easy'][\n",
    "    'user_id'\n",
    "].nunique()\n",
    "print('easy level - ', easy_level_users)\n",
    "# Уровень не выбран\n",
    "nan_level_users = events_df['user_id'].nunique() - easy_level_users - medium_level_users - hard_level_users\n",
    "print('без уровня - ', nan_level_users)"
   ]
  },
  {
   "cell_type": "code",
   "execution_count": 94,
   "metadata": {},
   "outputs": [
    {
     "name": "stdout",
     "output_type": "stream",
     "text": [
      "Оплатившие пользователи, у которых:\n",
      "hard level -  442\n",
      "medium level -  969\n",
      "easy level -  189\n",
      "нет уровня -  0 , то есть выбор уровня является обязательным условием начала core игры\n"
     ]
    }
   ],
   "source": [
    "# Запишем в переменную users_with_payment id оплативших пользователей, она потребуется для фильтрации.\n",
    "users_with_payment = purchase_df['user_id']\n",
    "\n",
    "# Рассчитаем количество оплативших пользователей, выбравших определенный уровень: \n",
    "print('Оплатившие пользователи, у которых:')\n",
    "# Hard level\n",
    "hard_level_users_series = events_df[\n",
    "    (events_df['selected_level'] == 'hard')&(events_df['user_id'].isin(users_with_payment))][\n",
    "        'user_id']\n",
    "hard_level_users_with_payment = hard_level_users_series.nunique()\n",
    "print('hard level - ', hard_level_users_with_payment)\n",
    "# Medium level\n",
    "medium_level_users_series = events_df[\n",
    "    (events_df['selected_level'] == 'medium')&(events_df['user_id'].isin(users_with_payment))][\n",
    "        'user_id']\n",
    "medium_level_users_with_payment = medium_level_users_series.nunique()    \n",
    "print('medium level - ',medium_level_users_with_payment)  \n",
    "# Easy level \n",
    "easy_level_users_series = events_df[\n",
    "    (events_df['selected_level'] == 'easy')&(events_df['user_id'].isin(users_with_payment))][\n",
    "        'user_id']   \n",
    "easy_level_users_with_payment = easy_level_users_series.nunique()  \n",
    "print('easy level - ',easy_level_users_with_payment)  \n",
    "# Not selected\n",
    "nan_level_users_with_payment = events_df[events_df['user_id'].isin(users_with_payment)][\n",
    "        'user_id'].nunique(\n",
    "            ) - easy_level_users_with_payment - medium_level_users_with_payment - hard_level_users_with_payment\n",
    "print('нет уровня - ',nan_level_users_with_payment, ', то есть выбор уровня является обязательным условием начала core игры')   "
   ]
  },
  {
   "cell_type": "code",
   "execution_count": 95,
   "metadata": {},
   "outputs": [
    {
     "name": "stdout",
     "output_type": "stream",
     "text": [
      "Процент оплативших пользователей, среди пользователей выбравших:\n",
      "Hard level - 35.39%\n",
      "Medium level -20.86%\n",
      "Easy level -7.72%\n"
     ]
    }
   ],
   "source": [
    "# Рассчитаем процент оплативших пользователей среди всех пользователей в разрезе выбранного уровня сложности\n",
    "print('Процент оплативших пользователей, среди пользователей выбравших:')\n",
    "percent_hard_level_users = hard_level_users_with_payment / hard_level_users\n",
    "print('Hard level - {:.2%}'.format(percent_hard_level_users))\n",
    "\n",
    "percent_medium_level_users = medium_level_users_with_payment / medium_level_users\n",
    "print('Medium level -{:.2%}'.format(percent_medium_level_users))\n",
    "\n",
    "percent_easy_level_users = easy_level_users_with_payment / easy_level_users\n",
    "print('Easy level -{:.2%}'.format(percent_easy_level_users))"
   ]
  },
  {
   "attachments": {},
   "cell_type": "markdown",
   "metadata": {},
   "source": [
    "## Вывод \n",
    "### Есть ли зависимость между выбранным уровнем сложности и вероятностью оплаты?\n",
    "\n",
    "#### **Чем выше сложность уровня, тем больше вероятность оплаты.** \n",
    "\n",
    "#### Исходя из этой закономерности, можно предположить, что увеличив количество пользователей, выбирающих hard level, можно повысить выручку игры."
   ]
  },
  {
   "attachments": {},
   "cell_type": "markdown",
   "metadata": {},
   "source": [
    "--- \n",
    "## Различается ли временной промежуток между регистрацией и оплатой у групп пользователей с разным уровнем сложности?"
   ]
  },
  {
   "cell_type": "code",
   "execution_count": 96,
   "metadata": {},
   "outputs": [],
   "source": [
    "# Переименуем столбцы, чтобы избежать некорректного присоединения\n",
    "\n",
    "events_df = events_df.rename(columns={\"id\": \"event_id\"})\n",
    "purchase_df = purchase_df.rename(columns={\"id\": \"purchase_id\", \"event_datetime\": \"purchase_time\"})\n"
   ]
  },
  {
   "cell_type": "code",
   "execution_count": 97,
   "metadata": {},
   "outputs": [],
   "source": [
    "# Из таблицы events_df берем только регистрации\n",
    "\n",
    "registration_df = events_df[events_df['event_type'] == 'registration']"
   ]
  },
  {
   "cell_type": "code",
   "execution_count": 98,
   "metadata": {},
   "outputs": [
    {
     "data": {
      "text/html": [
       "<div>\n",
       "<style scoped>\n",
       "    .dataframe tbody tr th:only-of-type {\n",
       "        vertical-align: middle;\n",
       "    }\n",
       "\n",
       "    .dataframe tbody tr th {\n",
       "        vertical-align: top;\n",
       "    }\n",
       "\n",
       "    .dataframe thead th {\n",
       "        text-align: right;\n",
       "    }\n",
       "</style>\n",
       "<table border=\"1\" class=\"dataframe\">\n",
       "  <thead>\n",
       "    <tr style=\"text-align: right;\">\n",
       "      <th></th>\n",
       "      <th>event_id</th>\n",
       "      <th>event_type</th>\n",
       "      <th>selected_level</th>\n",
       "      <th>start_time</th>\n",
       "      <th>tutorial_id</th>\n",
       "      <th>user_id</th>\n",
       "      <th>purchase_id</th>\n",
       "      <th>purchase_time</th>\n",
       "      <th>amount</th>\n",
       "    </tr>\n",
       "  </thead>\n",
       "  <tbody>\n",
       "    <tr>\n",
       "      <th>0</th>\n",
       "      <td>80336</td>\n",
       "      <td>registration</td>\n",
       "      <td>NaN</td>\n",
       "      <td>2018-01-02 01:35:56</td>\n",
       "      <td>NaN</td>\n",
       "      <td>27845</td>\n",
       "      <td>16845</td>\n",
       "      <td>2018-01-03 18:53:43</td>\n",
       "      <td>100</td>\n",
       "    </tr>\n",
       "    <tr>\n",
       "      <th>1</th>\n",
       "      <td>80418</td>\n",
       "      <td>registration</td>\n",
       "      <td>NaN</td>\n",
       "      <td>2018-01-03 11:14:57</td>\n",
       "      <td>NaN</td>\n",
       "      <td>27865</td>\n",
       "      <td>16846</td>\n",
       "      <td>2018-01-04 14:46:10</td>\n",
       "      <td>250</td>\n",
       "    </tr>\n",
       "    <tr>\n",
       "      <th>2</th>\n",
       "      <td>80466</td>\n",
       "      <td>registration</td>\n",
       "      <td>NaN</td>\n",
       "      <td>2018-01-04 11:50:43</td>\n",
       "      <td>NaN</td>\n",
       "      <td>27884</td>\n",
       "      <td>16854</td>\n",
       "      <td>2018-01-08 19:37:34</td>\n",
       "      <td>150</td>\n",
       "    </tr>\n",
       "    <tr>\n",
       "      <th>3</th>\n",
       "      <td>80539</td>\n",
       "      <td>registration</td>\n",
       "      <td>NaN</td>\n",
       "      <td>2018-01-05 10:45:33</td>\n",
       "      <td>NaN</td>\n",
       "      <td>27910</td>\n",
       "      <td>16849</td>\n",
       "      <td>2018-01-07 12:11:34</td>\n",
       "      <td>100</td>\n",
       "    </tr>\n",
       "    <tr>\n",
       "      <th>4</th>\n",
       "      <td>80540</td>\n",
       "      <td>registration</td>\n",
       "      <td>NaN</td>\n",
       "      <td>2018-01-05 10:48:24</td>\n",
       "      <td>NaN</td>\n",
       "      <td>27911</td>\n",
       "      <td>16848</td>\n",
       "      <td>2018-01-07 08:19:12</td>\n",
       "      <td>50</td>\n",
       "    </tr>\n",
       "  </tbody>\n",
       "</table>\n",
       "</div>"
      ],
      "text/plain": [
       "   event_id    event_type selected_level          start_time  tutorial_id  \\\n",
       "0     80336  registration            NaN 2018-01-02 01:35:56          NaN   \n",
       "1     80418  registration            NaN 2018-01-03 11:14:57          NaN   \n",
       "2     80466  registration            NaN 2018-01-04 11:50:43          NaN   \n",
       "3     80539  registration            NaN 2018-01-05 10:45:33          NaN   \n",
       "4     80540  registration            NaN 2018-01-05 10:48:24          NaN   \n",
       "\n",
       "   user_id  purchase_id       purchase_time  amount  \n",
       "0    27845        16845 2018-01-03 18:53:43     100  \n",
       "1    27865        16846 2018-01-04 14:46:10     250  \n",
       "2    27884        16854 2018-01-08 19:37:34     150  \n",
       "3    27910        16849 2018-01-07 12:11:34     100  \n",
       "4    27911        16848 2018-01-07 08:19:12      50  "
      ]
     },
     "execution_count": 98,
     "metadata": {},
     "output_type": "execute_result"
    }
   ],
   "source": [
    "# Объединяем таблицы purchase_df и registration_df\n",
    "merged_df = registration_df.merge(purchase_df, on='user_id', how='inner')\n",
    "merged_df.head()"
   ]
  },
  {
   "cell_type": "code",
   "execution_count": 99,
   "metadata": {},
   "outputs": [
    {
     "name": "stdout",
     "output_type": "stream",
     "text": [
      "count                          442\n",
      "mean     3 days 14:55:19.257918552\n",
      "std      1 days 22:22:52.441896774\n",
      "min                0 days 09:41:39\n",
      "25%         1 days 23:36:25.500000\n",
      "50%         3 days 10:10:04.500000\n",
      "75%         5 days 03:30:07.750000\n",
      "max                8 days 14:21:29\n",
      "dtype: object\n"
     ]
    }
   ],
   "source": [
    "# Отсортируем таблицу на соответсвие переменнной hard_level_users_series \n",
    "hard_level = merged_df[merged_df['user_id'].isin(hard_level_users_series)]\n",
    "\n",
    "# Найдем промежуток времени\n",
    "hard_timedelta = (hard_level['purchase_time'] - hard_level['start_time']).describe()\n",
    "print(hard_timedelta)"
   ]
  },
  {
   "cell_type": "code",
   "execution_count": 100,
   "metadata": {},
   "outputs": [
    {
     "name": "stdout",
     "output_type": "stream",
     "text": [
      "count                          969\n",
      "mean     4 days 06:12:06.576883384\n",
      "std      2 days 06:25:57.480868026\n",
      "min                0 days 08:39:24\n",
      "25%                2 days 08:46:51\n",
      "50%                4 days 03:35:26\n",
      "75%                5 days 23:51:27\n",
      "max               10 days 20:34:02\n",
      "dtype: object\n"
     ]
    }
   ],
   "source": [
    "# Отсортируем таблицу на соответсвие переменнной medium_level_users_series \n",
    "medium_level = merged_df[merged_df['user_id'].isin(medium_level_users_series)]\n",
    "\n",
    "# Найдем промежуток времени\n",
    "medium_timedelta = (medium_level['purchase_time'] - medium_level['start_time']).describe()\n",
    "print(medium_timedelta)"
   ]
  },
  {
   "cell_type": "code",
   "execution_count": 101,
   "metadata": {},
   "outputs": [
    {
     "name": "stdout",
     "output_type": "stream",
     "text": [
      "count                          189\n",
      "mean     3 days 22:10:23.211640211\n",
      "std      2 days 07:14:41.062010764\n",
      "min                0 days 04:36:58\n",
      "25%                2 days 01:12:12\n",
      "50%                3 days 11:00:23\n",
      "75%                5 days 10:24:59\n",
      "max               11 days 00:35:04\n",
      "dtype: object\n"
     ]
    }
   ],
   "source": [
    "# Отсортируем таблицу на соответсвие переменнной easy_level_users_series \n",
    "easy_level = merged_df[merged_df['user_id'].isin(easy_level_users_series)]\n",
    "\n",
    "# Найдем промежуток времени\n",
    "easy_timedelta = (easy_level['purchase_time'] - easy_level['start_time'])\n",
    "print(easy_timedelta.describe())"
   ]
  },
  {
   "attachments": {},
   "cell_type": "markdown",
   "metadata": {},
   "source": [
    "## ВЫВОД\n",
    "### Различается ли временной промежуток между регистрацией и оплатой у групп пользователей с разным уровнем сложности?\n",
    "\n",
    "Временной промежуток между регистрацией и оплатой у пользователей **не растет и не уменьшается с уровнем сложности**. Самой длительное среднее время (по медиане и среднему значению) у уровня medium, ярко выраженной зависимости не наблюдается. "
   ]
  },
  {
   "cell_type": "markdown",
   "metadata": {},
   "source": []
  }
 ],
 "metadata": {
  "kernelspec": {
   "display_name": "Python 3",
   "language": "python",
   "name": "python3"
  },
  "language_info": {
   "codemirror_mode": {
    "name": "ipython",
    "version": 3
   },
   "file_extension": ".py",
   "mimetype": "text/x-python",
   "name": "python",
   "nbconvert_exporter": "python",
   "pygments_lexer": "ipython3",
   "version": "3.10.9"
  },
  "orig_nbformat": 4,
  "vscode": {
   "interpreter": {
    "hash": "aee8b7b246df8f9039afb4144a1f6fd8d2ca17a180786b69acc140d282b71a49"
   }
  }
 },
 "nbformat": 4,
 "nbformat_minor": 2
}
